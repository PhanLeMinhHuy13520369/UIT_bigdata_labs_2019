{
 "cells": [
  {
   "cell_type": "code",
   "execution_count": 1,
   "metadata": {},
   "outputs": [
    {
     "data": {
      "text/plain": [
       "2401"
      ]
     },
     "execution_count": 1,
     "metadata": {},
     "output_type": "execute_result"
    }
   ],
   "source": [
<<<<<<< HEAD
    "7**4"
=======
    "pow(7,4)"
>>>>>>> master
   ]
  },
  {
   "cell_type": "code",
<<<<<<< HEAD
   "execution_count": 2,
=======
   "execution_count": 9,
>>>>>>> master
   "metadata": {},
   "outputs": [
    {
     "data": {
      "text/plain": [
       "['Hi', 'there', 'Sam!']"
      ]
     },
<<<<<<< HEAD
     "execution_count": 2,
=======
     "execution_count": 9,
>>>>>>> master
     "metadata": {},
     "output_type": "execute_result"
    }
   ],
   "source": [
<<<<<<< HEAD
    "s = 'Hi there Sam!'\n",
    "s.split(' ')"
=======
    "s = \"Hi there Sam!\"\n",
    "s.split()"
   ]
  },
  {
   "cell_type": "code",
   "execution_count": 10,
   "metadata": {},
   "outputs": [],
   "source": [
    "planet = \"Earth\"\n",
    "diameter = 12742"
>>>>>>> master
   ]
  },
  {
   "cell_type": "code",
<<<<<<< HEAD
   "execution_count": 3,
=======
   "execution_count": 12,
>>>>>>> master
   "metadata": {},
   "outputs": [
    {
     "name": "stdout",
     "output_type": "stream",
     "text": [
<<<<<<< HEAD
      "The diameter of Earth is 12742 kilometers.\n"
=======
      "The diameter of Earth is 12742 kilometers\n"
>>>>>>> master
     ]
    }
   ],
   "source": [
<<<<<<< HEAD
    "plannet = 'Earth'\n",
    "diameter = 12742\n",
    "print('The diameter of {} is {} kilometers.'.format(plannet, diameter))"
=======
    "print (\"The diameter of {} is {} kilometers\".format(planet,diameter))"
>>>>>>> master
   ]
  },
  {
   "cell_type": "code",
<<<<<<< HEAD
   "execution_count": 4,
   "metadata": {},
   "outputs": [],
   "source": [
    "lst = [1, 2, [3, 4], [5, [100, 200, ['hello']], 23, 11], 1, 7]"
=======
   "execution_count": 14,
   "metadata": {},
   "outputs": [],
   "source": [
    "lst = [1,2,[3,4],[5,[100,200,['hello']],23,11],1,7]"
>>>>>>> master
   ]
  },
  {
   "cell_type": "code",
<<<<<<< HEAD
   "execution_count": 5,
   "metadata": {
    "scrolled": true
   },
=======
   "execution_count": 25,
   "metadata": {},
>>>>>>> master
   "outputs": [
    {
     "data": {
      "text/plain": [
       "'hello'"
      ]
     },
<<<<<<< HEAD
     "execution_count": 5,
=======
     "execution_count": 25,
>>>>>>> master
     "metadata": {},
     "output_type": "execute_result"
    }
   ],
   "source": [
    "lst[3][1][2][0]"
   ]
  },
  {
   "cell_type": "code",
<<<<<<< HEAD
   "execution_count": 6,
   "metadata": {},
   "outputs": [],
   "source": [
    "d = {'k1':[1, 2, 3, {'tricky': ['oh', 'man', 'incaption', {'target':[1, 2, 3, 'hello']}]}]}"
=======
<<<<<<< HEAD:Lab2&3/.ipynb_checkpoints/16520449_ex2-checkpoint.ipynb
   "execution_count": 6,
=======
   "execution_count": 26,
>>>>>>> 7d8af7ec4cde662b44579ef747db8918bfb7771f:Lab2&3/16521459_Lab2.ipynb
   "metadata": {},
   "outputs": [],
   "source": [
    "d = {'k1':[1,2,3,{'tricky':['oh','man','inception',{'target':[1,2,3,'hello']}]}]}"
>>>>>>> master
   ]
  },
  {
   "cell_type": "code",
<<<<<<< HEAD
=======
<<<<<<< HEAD:Lab2&3/.ipynb_checkpoints/16520449_ex2-checkpoint.ipynb
>>>>>>> master
   "execution_count": 7,
   "metadata": {},
   "outputs": [
    {
     "data": {
      "text/plain": [
       "'hello'"
      ]
     },
     "execution_count": 7,
     "metadata": {},
     "output_type": "execute_result"
    }
   ],
   "source": [
    "d['k1'][3]['tricky'][3]['target'][3]"
<<<<<<< HEAD
=======
=======
   "execution_count": 35,
   "metadata": {},
   "outputs": [
    {
     "data": {
      "text/plain": [
       "'hello'"
      ]
     },
     "execution_count": 35,
     "metadata": {},
     "output_type": "execute_result"
    }
   ],
   "source": [
    "d['k1'][3]['tricky'][3]['target'][3]"
>>>>>>> master
   ]
  },
  {
   "cell_type": "code",
<<<<<<< HEAD
   "execution_count": 8,
   "metadata": {},
   "outputs": [],
   "source": [
    "def get_email_website(x):\n",
=======
   "execution_count": 36,
   "metadata": {},
   "outputs": [],
   "source": [
    "# Tuple is immutable"
   ]
  },
  {
   "cell_type": "code",
   "execution_count": 37,
   "metadata": {},
   "outputs": [],
   "source": [
    "a = 'user@domain.com'"
>>>>>>> 7d8af7ec4cde662b44579ef747db8918bfb7771f:Lab2&3/16521459_Lab2.ipynb
   ]
  },
  {
   "cell_type": "code",
<<<<<<< HEAD:Lab2&3/.ipynb_checkpoints/16520449_ex2-checkpoint.ipynb
   "execution_count": 8,
=======
   "execution_count": 51,
>>>>>>> 7d8af7ec4cde662b44579ef747db8918bfb7771f:Lab2&3/16521459_Lab2.ipynb
   "metadata": {},
   "outputs": [],
   "source": [
    "def domainGet(x):\n",
>>>>>>> master
    "    return x.split('@')[1]"
   ]
  },
  {
   "cell_type": "code",
<<<<<<< HEAD
   "execution_count": 9,
=======
<<<<<<< HEAD:Lab2&3/.ipynb_checkpoints/16520449_ex2-checkpoint.ipynb
   "execution_count": 9,
=======
   "execution_count": 52,
>>>>>>> 7d8af7ec4cde662b44579ef747db8918bfb7771f:Lab2&3/16521459_Lab2.ipynb
>>>>>>> master
   "metadata": {},
   "outputs": [
    {
     "data": {
      "text/plain": [
       "'domain.com'"
      ]
     },
<<<<<<< HEAD
     "execution_count": 9,
=======
<<<<<<< HEAD:Lab2&3/.ipynb_checkpoints/16520449_ex2-checkpoint.ipynb
     "execution_count": 9,
=======
     "execution_count": 52,
>>>>>>> 7d8af7ec4cde662b44579ef747db8918bfb7771f:Lab2&3/16521459_Lab2.ipynb
>>>>>>> master
     "metadata": {},
     "output_type": "execute_result"
    }
   ],
   "source": [
<<<<<<< HEAD
    "get_email_website('user@domain.com')"
=======
    "domainGet(a)"
>>>>>>> master
   ]
  },
  {
   "cell_type": "code",
<<<<<<< HEAD
   "execution_count": 10,
   "metadata": {},
   "outputs": [],
   "source": [
    "def find_dog(x):\n",
    "    return 'dog' in x"
=======
<<<<<<< HEAD:Lab2&3/.ipynb_checkpoints/16520449_ex2-checkpoint.ipynb
   "execution_count": 10,
=======
   "execution_count": 55,
>>>>>>> 7d8af7ec4cde662b44579ef747db8918bfb7771f:Lab2&3/16521459_Lab2.ipynb
   "metadata": {},
   "outputs": [],
   "source": [
    "def findDog(x):\n",
    "    a = x.split()\n",
    "    if 'dog' in a:\n",
    "        return True"
>>>>>>> master
   ]
  },
  {
   "cell_type": "code",
<<<<<<< HEAD
   "execution_count": 11,
=======
<<<<<<< HEAD:Lab2&3/.ipynb_checkpoints/16520449_ex2-checkpoint.ipynb
   "execution_count": 11,
=======
   "execution_count": 56,
>>>>>>> 7d8af7ec4cde662b44579ef747db8918bfb7771f:Lab2&3/16521459_Lab2.ipynb
>>>>>>> master
   "metadata": {},
   "outputs": [
    {
     "data": {
      "text/plain": [
       "True"
      ]
     },
<<<<<<< HEAD
     "execution_count": 11,
=======
<<<<<<< HEAD:Lab2&3/.ipynb_checkpoints/16520449_ex2-checkpoint.ipynb
     "execution_count": 11,
=======
     "execution_count": 56,
>>>>>>> 7d8af7ec4cde662b44579ef747db8918bfb7771f:Lab2&3/16521459_Lab2.ipynb
>>>>>>> master
     "metadata": {},
     "output_type": "execute_result"
    }
   ],
   "source": [
<<<<<<< HEAD
    "find_dog('Is there a dog here?')"
=======
    "findDog('Is there a dog here?')"
>>>>>>> master
   ]
  },
  {
   "cell_type": "code",
<<<<<<< HEAD
   "execution_count": 12,
   "metadata": {},
   "outputs": [],
   "source": [
    "def count_dog(x):\n",
    "    return x.count('dog')"
=======
<<<<<<< HEAD:Lab2&3/.ipynb_checkpoints/16520449_ex2-checkpoint.ipynb
   "execution_count": 12,
=======
   "execution_count": 64,
>>>>>>> 7d8af7ec4cde662b44579ef747db8918bfb7771f:Lab2&3/16521459_Lab2.ipynb
   "metadata": {},
   "outputs": [],
   "source": [
    "def countDog(x):\n",
    "    a = x.split()\n",
    "    b = 0\n",
    "    for item in a:\n",
    "        if item == 'dog':\n",
    "            b = b + 1\n",
    "    return b"
>>>>>>> master
   ]
  },
  {
   "cell_type": "code",
<<<<<<< HEAD
   "execution_count": 13,
=======
<<<<<<< HEAD:Lab2&3/.ipynb_checkpoints/16520449_ex2-checkpoint.ipynb
   "execution_count": 13,
=======
   "execution_count": 67,
>>>>>>> 7d8af7ec4cde662b44579ef747db8918bfb7771f:Lab2&3/16521459_Lab2.ipynb
>>>>>>> master
   "metadata": {},
   "outputs": [
    {
     "data": {
      "text/plain": [
       "2"
      ]
     },
<<<<<<< HEAD
     "execution_count": 13,
=======
<<<<<<< HEAD:Lab2&3/.ipynb_checkpoints/16520449_ex2-checkpoint.ipynb
     "execution_count": 13,
=======
     "execution_count": 67,
>>>>>>> 7d8af7ec4cde662b44579ef747db8918bfb7771f:Lab2&3/16521459_Lab2.ipynb
>>>>>>> master
     "metadata": {},
     "output_type": "execute_result"
    }
   ],
   "source": [
<<<<<<< HEAD
    "count_dog('This dog runs faster than the other dog dude!')"
=======
    "countDog('This dog runs faster than the other dog dude!')"
>>>>>>> master
   ]
  },
  {
   "cell_type": "code",
<<<<<<< HEAD
   "execution_count": 14,
   "metadata": {},
   "outputs": [],
   "source": [
    "seq = ['soup', 'dog', 'salad', 'cat', 'great']"
=======
<<<<<<< HEAD:Lab2&3/.ipynb_checkpoints/16520449_ex2-checkpoint.ipynb
   "execution_count": 14,
=======
   "execution_count": 68,
>>>>>>> 7d8af7ec4cde662b44579ef747db8918bfb7771f:Lab2&3/16521459_Lab2.ipynb
   "metadata": {},
   "outputs": [],
   "source": [
    "seq = ['soup','dog','salad','cat','great']"
>>>>>>> master
   ]
  },
  {
   "cell_type": "code",
<<<<<<< HEAD
   "execution_count": 15,
=======
<<<<<<< HEAD:Lab2&3/.ipynb_checkpoints/16520449_ex2-checkpoint.ipynb
   "execution_count": 15,
=======
   "execution_count": 73,
>>>>>>> 7d8af7ec4cde662b44579ef747db8918bfb7771f:Lab2&3/16521459_Lab2.ipynb
>>>>>>> master
   "metadata": {},
   "outputs": [
    {
     "data": {
      "text/plain": [
       "['soup', 'salad']"
      ]
     },
<<<<<<< HEAD
     "execution_count": 15,
=======
<<<<<<< HEAD:Lab2&3/.ipynb_checkpoints/16520449_ex2-checkpoint.ipynb
     "execution_count": 15,
=======
     "execution_count": 73,
>>>>>>> 7d8af7ec4cde662b44579ef747db8918bfb7771f:Lab2&3/16521459_Lab2.ipynb
>>>>>>> master
     "metadata": {},
     "output_type": "execute_result"
    }
   ],
   "source": [
<<<<<<< HEAD
    "# [word for word in seq if word.startswith('s')]\n",
    "word = list(filter(lambda word: word.startswith('s'), seq))\n",
    "word"
   ]
  },
  {
   "cell_type": "markdown",
   "metadata": {},
   "source": [
    "**Final problem**"
=======
    "list(filter(lambda item: item[0]=='s',seq))"
>>>>>>> master
   ]
  },
  {
   "cell_type": "code",
<<<<<<< HEAD
   "execution_count": 16,
   "metadata": {},
   "outputs": [],
   "source": [
    "def caught_speeding(speed, is_birthday):\n",
    "    speed = speed - (65 if is_birthday else 60)\n",
    "    if speed > 20:\n",
    "        return 'Big Ticket'\n",
    "    elif speed > 0:\n",
    "        return 'Small Ticket'\n",
    "    else:\n",
    "        return 'No Ticket'"
=======
<<<<<<< HEAD:Lab2&3/.ipynb_checkpoints/16520449_ex2-checkpoint.ipynb
   "execution_count": 16,
=======
   "execution_count": 97,
>>>>>>> 7d8af7ec4cde662b44579ef747db8918bfb7771f:Lab2&3/16521459_Lab2.ipynb
   "metadata": {},
   "outputs": [],
   "source": [
    "def caught_speeding(speed,is_birthday):\n",
    "    if bool(is_birthday):\n",
    "        speed = speed + 5\n",
    "    if speed <= 60:\n",
    "        print('No Ticket')\n",
    "    elif speed <= 80:\n",
    "        print('Small Ticket')\n",
    "    else:\n",
    "        print('Big Ticket')"
>>>>>>> master
   ]
  },
  {
   "cell_type": "code",
<<<<<<< HEAD
=======
<<<<<<< HEAD:Lab2&3/.ipynb_checkpoints/16520449_ex2-checkpoint.ipynb
>>>>>>> master
   "execution_count": 17,
   "metadata": {},
   "outputs": [
    {
     "data": {
      "text/plain": [
       "'Small Ticket'"
      ]
     },
     "execution_count": 17,
     "metadata": {},
     "output_type": "execute_result"
<<<<<<< HEAD
    }
   ],
   "source": [
    "caught_speeding(81, True)"
=======
=======
   "execution_count": 87,
   "metadata": {},
   "outputs": [
    {
     "name": "stdout",
     "output_type": "stream",
     "text": [
      "Small Ticket\n"
     ]
>>>>>>> 7d8af7ec4cde662b44579ef747db8918bfb7771f:Lab2&3/16521459_Lab2.ipynb
    }
   ],
   "source": [
    "caught_speeding(81,True)"
>>>>>>> master
   ]
  },
  {
   "cell_type": "code",
<<<<<<< HEAD
=======
<<<<<<< HEAD:Lab2&3/.ipynb_checkpoints/16520449_ex2-checkpoint.ipynb
>>>>>>> master
   "execution_count": 18,
   "metadata": {},
   "outputs": [
    {
     "data": {
      "text/plain": [
       "'Big Ticket'"
      ]
     },
     "execution_count": 18,
     "metadata": {},
     "output_type": "execute_result"
<<<<<<< HEAD
    }
   ],
   "source": [
    "caught_speeding(81, False)"
=======
=======
   "execution_count": 98,
   "metadata": {},
   "outputs": [
    {
     "name": "stdout",
     "output_type": "stream",
     "text": [
      "Big Ticket\n"
     ]
>>>>>>> 7d8af7ec4cde662b44579ef747db8918bfb7771f:Lab2&3/16521459_Lab2.ipynb
    }
   ],
   "source": [
    "caught_speeding(81,False)"
>>>>>>> master
   ]
  },
  {
   "cell_type": "code",
   "execution_count": null,
   "metadata": {},
   "outputs": [],
   "source": []
  }
 ],
 "metadata": {
  "kernelspec": {
   "display_name": "Python 3",
   "language": "python",
   "name": "python3"
  },
  "language_info": {
   "codemirror_mode": {
    "name": "ipython",
    "version": 3
   },
   "file_extension": ".py",
   "mimetype": "text/x-python",
   "name": "python",
   "nbconvert_exporter": "python",
   "pygments_lexer": "ipython3",
   "version": "3.7.4"
  }
 },
 "nbformat": 4,
 "nbformat_minor": 2
}
