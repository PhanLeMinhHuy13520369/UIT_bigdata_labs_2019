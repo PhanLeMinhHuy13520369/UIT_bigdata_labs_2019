{
 "cells": [
  {
   "cell_type": "code",
   "execution_count": 1,
   "metadata": {},
   "outputs": [
    {
     "data": {
      "text/plain": [
       "2401"
      ]
     },
     "execution_count": 1,
     "metadata": {},
     "output_type": "execute_result"
    }
   ],
   "source": [
    "pow(7,4)"
   ]
  },
  {
   "cell_type": "code",
   "execution_count": 9,
   "metadata": {},
   "outputs": [
    {
     "data": {
      "text/plain": [
       "['Hi', 'there', 'Sam!']"
      ]
     },
     "execution_count": 9,
     "metadata": {},
     "output_type": "execute_result"
    }
   ],
   "source": [
    "s = \"Hi there Sam!\"\n",
    "s.split()"
   ]
  },
  {
   "cell_type": "code",
   "execution_count": 10,
   "metadata": {},
   "outputs": [],
   "source": [
    "planet = \"Earth\"\n",
    "diameter = 12742"
   ]
  },
  {
   "cell_type": "code",
   "execution_count": 12,
   "metadata": {},
   "outputs": [
    {
     "name": "stdout",
     "output_type": "stream",
     "text": [
      "The diameter of Earth is 12742 kilometers\n"
     ]
    }
   ],
   "source": [
    "print (\"The diameter of {} is {} kilometers\".format(planet,diameter))"
   ]
  },
  {
   "cell_type": "code",
   "execution_count": 14,
   "metadata": {},
   "outputs": [],
   "source": [
    "lst = [1,2,[3,4],[5,[100,200,['hello']],23,11],1,7]"
   ]
  },
  {
   "cell_type": "code",
   "execution_count": 25,
   "metadata": {},
   "outputs": [
    {
     "data": {
      "text/plain": [
       "'hello'"
      ]
     },
     "execution_count": 25,
     "metadata": {},
     "output_type": "execute_result"
    }
   ],
   "source": [
    "lst[3][1][2][0]"
   ]
  },
  {
   "cell_type": "code",
<<<<<<< HEAD:Lab2&3/16521459_Lab2.ipynb
<<<<<<< HEAD
   "execution_count": 26,
=======
<<<<<<< HEAD:Lab2&3/.ipynb_checkpoints/16520449_ex2-checkpoint.ipynb
   "execution_count": 6,
=======
   "execution_count": 26,
>>>>>>> 7d8af7ec4cde662b44579ef747db8918bfb7771f:Lab2&3/16521459_Lab2.ipynb
>>>>>>> master
=======
   "execution_count": 26,
>>>>>>> master:Lab2&3/16521459_Ex2.ipynb
   "metadata": {},
   "outputs": [],
   "source": [
    "d = {'k1':[1,2,3,{'tricky':['oh','man','inception',{'target':[1,2,3,'hello']}]}]}"
   ]
  },
  {
   "cell_type": "code",
<<<<<<< HEAD:Lab2&3/16521459_Lab2.ipynb
<<<<<<< HEAD
=======
<<<<<<< HEAD:Lab2&3/.ipynb_checkpoints/16520449_ex2-checkpoint.ipynb
   "execution_count": 7,
   "metadata": {},
   "outputs": [
    {
     "data": {
      "text/plain": [
       "'hello'"
      ]
     },
     "execution_count": 7,
     "metadata": {},
     "output_type": "execute_result"
    }
   ],
   "source": [
    "d['k1'][3]['tricky'][3]['target'][3]"
=======
>>>>>>> master
=======
>>>>>>> master:Lab2&3/16521459_Ex2.ipynb
   "execution_count": 35,
   "metadata": {},
   "outputs": [
    {
     "data": {
      "text/plain": [
       "'hello'"
      ]
     },
     "execution_count": 35,
     "metadata": {},
     "output_type": "execute_result"
    }
   ],
   "source": [
    "d['k1'][3]['tricky'][3]['target'][3]"
   ]
  },
  {
   "cell_type": "code",
   "execution_count": 36,
   "metadata": {},
   "outputs": [],
   "source": [
    "# Tuple is immutable"
   ]
  },
  {
   "cell_type": "code",
   "execution_count": 37,
   "metadata": {},
   "outputs": [],
   "source": [
    "a = 'user@domain.com'"
<<<<<<< HEAD:Lab2&3/16521459_Lab2.ipynb
<<<<<<< HEAD
=======
>>>>>>> 7d8af7ec4cde662b44579ef747db8918bfb7771f:Lab2&3/16521459_Lab2.ipynb
>>>>>>> master
=======
>>>>>>> master:Lab2&3/16521459_Ex2.ipynb
   ]
  },
  {
   "cell_type": "code",
<<<<<<< HEAD:Lab2&3/16521459_Lab2.ipynb
<<<<<<< HEAD
   "execution_count": 51,
=======
<<<<<<< HEAD:Lab2&3/.ipynb_checkpoints/16520449_ex2-checkpoint.ipynb
   "execution_count": 8,
=======
   "execution_count": 51,
>>>>>>> 7d8af7ec4cde662b44579ef747db8918bfb7771f:Lab2&3/16521459_Lab2.ipynb
>>>>>>> master
=======
   "execution_count": 51,
>>>>>>> master:Lab2&3/16521459_Ex2.ipynb
   "metadata": {},
   "outputs": [],
   "source": [
    "def domainGet(x):\n",
    "    return x.split('@')[1]"
   ]
  },
  {
   "cell_type": "code",
<<<<<<< HEAD:Lab2&3/16521459_Lab2.ipynb
<<<<<<< HEAD
   "execution_count": 52,
=======
<<<<<<< HEAD:Lab2&3/.ipynb_checkpoints/16520449_ex2-checkpoint.ipynb
   "execution_count": 9,
=======
   "execution_count": 52,
>>>>>>> 7d8af7ec4cde662b44579ef747db8918bfb7771f:Lab2&3/16521459_Lab2.ipynb
>>>>>>> master
=======
   "execution_count": 52,
>>>>>>> master:Lab2&3/16521459_Ex2.ipynb
   "metadata": {},
   "outputs": [
    {
     "data": {
      "text/plain": [
       "'domain.com'"
      ]
     },
<<<<<<< HEAD:Lab2&3/16521459_Lab2.ipynb
<<<<<<< HEAD
     "execution_count": 52,
=======
<<<<<<< HEAD:Lab2&3/.ipynb_checkpoints/16520449_ex2-checkpoint.ipynb
     "execution_count": 9,
=======
     "execution_count": 52,
>>>>>>> 7d8af7ec4cde662b44579ef747db8918bfb7771f:Lab2&3/16521459_Lab2.ipynb
>>>>>>> master
=======
     "execution_count": 52,
>>>>>>> master:Lab2&3/16521459_Ex2.ipynb
     "metadata": {},
     "output_type": "execute_result"
    }
   ],
   "source": [
    "domainGet(a)"
   ]
  },
  {
   "cell_type": "code",
<<<<<<< HEAD:Lab2&3/16521459_Lab2.ipynb
<<<<<<< HEAD
   "execution_count": 55,
=======
<<<<<<< HEAD:Lab2&3/.ipynb_checkpoints/16520449_ex2-checkpoint.ipynb
   "execution_count": 10,
=======
   "execution_count": 55,
>>>>>>> 7d8af7ec4cde662b44579ef747db8918bfb7771f:Lab2&3/16521459_Lab2.ipynb
>>>>>>> master
=======
   "execution_count": 55,
>>>>>>> master:Lab2&3/16521459_Ex2.ipynb
   "metadata": {},
   "outputs": [],
   "source": [
    "def findDog(x):\n",
    "    a = x.split()\n",
    "    if 'dog' in a:\n",
    "        return True"
   ]
  },
  {
   "cell_type": "code",
<<<<<<< HEAD:Lab2&3/16521459_Lab2.ipynb
<<<<<<< HEAD
   "execution_count": 56,
=======
<<<<<<< HEAD:Lab2&3/.ipynb_checkpoints/16520449_ex2-checkpoint.ipynb
   "execution_count": 11,
=======
   "execution_count": 56,
>>>>>>> 7d8af7ec4cde662b44579ef747db8918bfb7771f:Lab2&3/16521459_Lab2.ipynb
>>>>>>> master
=======
   "execution_count": 56,
>>>>>>> master:Lab2&3/16521459_Ex2.ipynb
   "metadata": {},
   "outputs": [
    {
     "data": {
      "text/plain": [
       "True"
      ]
     },
<<<<<<< HEAD:Lab2&3/16521459_Lab2.ipynb
<<<<<<< HEAD
     "execution_count": 56,
=======
<<<<<<< HEAD:Lab2&3/.ipynb_checkpoints/16520449_ex2-checkpoint.ipynb
     "execution_count": 11,
=======
     "execution_count": 56,
>>>>>>> 7d8af7ec4cde662b44579ef747db8918bfb7771f:Lab2&3/16521459_Lab2.ipynb
>>>>>>> master
=======
     "execution_count": 56,
>>>>>>> master:Lab2&3/16521459_Ex2.ipynb
     "metadata": {},
     "output_type": "execute_result"
    }
   ],
   "source": [
    "findDog('Is there a dog here?')"
   ]
  },
  {
   "cell_type": "code",
<<<<<<< HEAD:Lab2&3/16521459_Lab2.ipynb
<<<<<<< HEAD
   "execution_count": 64,
=======
<<<<<<< HEAD:Lab2&3/.ipynb_checkpoints/16520449_ex2-checkpoint.ipynb
   "execution_count": 12,
=======
   "execution_count": 64,
>>>>>>> 7d8af7ec4cde662b44579ef747db8918bfb7771f:Lab2&3/16521459_Lab2.ipynb
>>>>>>> master
=======
   "execution_count": 64,
>>>>>>> master:Lab2&3/16521459_Ex2.ipynb
   "metadata": {},
   "outputs": [],
   "source": [
    "def countDog(x):\n",
    "    a = x.split()\n",
    "    b = 0\n",
    "    for item in a:\n",
    "        if item == 'dog':\n",
    "            b = b + 1\n",
    "    return b"
   ]
  },
  {
   "cell_type": "code",
<<<<<<< HEAD:Lab2&3/16521459_Lab2.ipynb
<<<<<<< HEAD
   "execution_count": 67,
=======
<<<<<<< HEAD:Lab2&3/.ipynb_checkpoints/16520449_ex2-checkpoint.ipynb
   "execution_count": 13,
=======
   "execution_count": 67,
>>>>>>> 7d8af7ec4cde662b44579ef747db8918bfb7771f:Lab2&3/16521459_Lab2.ipynb
>>>>>>> master
=======
   "execution_count": 67,
>>>>>>> master:Lab2&3/16521459_Ex2.ipynb
   "metadata": {},
   "outputs": [
    {
     "data": {
      "text/plain": [
       "2"
      ]
     },
<<<<<<< HEAD:Lab2&3/16521459_Lab2.ipynb
<<<<<<< HEAD
     "execution_count": 67,
=======
<<<<<<< HEAD:Lab2&3/.ipynb_checkpoints/16520449_ex2-checkpoint.ipynb
     "execution_count": 13,
=======
     "execution_count": 67,
>>>>>>> 7d8af7ec4cde662b44579ef747db8918bfb7771f:Lab2&3/16521459_Lab2.ipynb
>>>>>>> master
=======
     "execution_count": 67,
>>>>>>> master:Lab2&3/16521459_Ex2.ipynb
     "metadata": {},
     "output_type": "execute_result"
    }
   ],
   "source": [
    "countDog('This dog runs faster than the other dog dude!')"
   ]
  },
  {
   "cell_type": "code",
<<<<<<< HEAD:Lab2&3/16521459_Lab2.ipynb
<<<<<<< HEAD
   "execution_count": 68,
=======
<<<<<<< HEAD:Lab2&3/.ipynb_checkpoints/16520449_ex2-checkpoint.ipynb
   "execution_count": 14,
=======
   "execution_count": 68,
>>>>>>> 7d8af7ec4cde662b44579ef747db8918bfb7771f:Lab2&3/16521459_Lab2.ipynb
>>>>>>> master
=======
   "execution_count": 68,
>>>>>>> master:Lab2&3/16521459_Ex2.ipynb
   "metadata": {},
   "outputs": [],
   "source": [
    "seq = ['soup','dog','salad','cat','great']"
   ]
  },
  {
   "cell_type": "code",
<<<<<<< HEAD:Lab2&3/16521459_Lab2.ipynb
<<<<<<< HEAD
   "execution_count": 73,
=======
<<<<<<< HEAD:Lab2&3/.ipynb_checkpoints/16520449_ex2-checkpoint.ipynb
   "execution_count": 15,
=======
   "execution_count": 73,
>>>>>>> 7d8af7ec4cde662b44579ef747db8918bfb7771f:Lab2&3/16521459_Lab2.ipynb
>>>>>>> master
=======
   "execution_count": 73,
>>>>>>> master:Lab2&3/16521459_Ex2.ipynb
   "metadata": {},
   "outputs": [
    {
     "data": {
      "text/plain": [
       "['soup', 'salad']"
      ]
     },
<<<<<<< HEAD:Lab2&3/16521459_Lab2.ipynb
<<<<<<< HEAD
     "execution_count": 73,
=======
<<<<<<< HEAD:Lab2&3/.ipynb_checkpoints/16520449_ex2-checkpoint.ipynb
     "execution_count": 15,
=======
     "execution_count": 73,
>>>>>>> 7d8af7ec4cde662b44579ef747db8918bfb7771f:Lab2&3/16521459_Lab2.ipynb
>>>>>>> master
=======
     "execution_count": 73,
>>>>>>> master:Lab2&3/16521459_Ex2.ipynb
     "metadata": {},
     "output_type": "execute_result"
    }
   ],
   "source": [
    "list(filter(lambda item: item[0]=='s',seq))"
   ]
  },
  {
   "cell_type": "code",
<<<<<<< HEAD:Lab2&3/16521459_Lab2.ipynb
<<<<<<< HEAD
   "execution_count": 97,
=======
<<<<<<< HEAD:Lab2&3/.ipynb_checkpoints/16520449_ex2-checkpoint.ipynb
   "execution_count": 16,
=======
   "execution_count": 97,
>>>>>>> 7d8af7ec4cde662b44579ef747db8918bfb7771f:Lab2&3/16521459_Lab2.ipynb
>>>>>>> master
=======
   "execution_count": 97,
>>>>>>> master:Lab2&3/16521459_Ex2.ipynb
   "metadata": {},
   "outputs": [],
   "source": [
    "def caught_speeding(speed,is_birthday):\n",
    "    if bool(is_birthday):\n",
    "        speed = speed + 5\n",
    "    if speed <= 60:\n",
    "        print('No Ticket')\n",
    "    elif speed <= 80:\n",
    "        print('Small Ticket')\n",
    "    else:\n",
    "        print('Big Ticket')"
   ]
  },
  {
   "cell_type": "code",
<<<<<<< HEAD:Lab2&3/16521459_Lab2.ipynb
<<<<<<< HEAD
=======
<<<<<<< HEAD:Lab2&3/.ipynb_checkpoints/16520449_ex2-checkpoint.ipynb
   "execution_count": 17,
   "metadata": {},
   "outputs": [
    {
     "data": {
      "text/plain": [
       "'Small Ticket'"
      ]
     },
     "execution_count": 17,
     "metadata": {},
     "output_type": "execute_result"
=======
>>>>>>> master
=======
>>>>>>> master:Lab2&3/16521459_Ex2.ipynb
   "execution_count": 87,
   "metadata": {},
   "outputs": [
    {
     "name": "stdout",
     "output_type": "stream",
     "text": [
      "Small Ticket\n"
     ]
<<<<<<< HEAD:Lab2&3/16521459_Lab2.ipynb
<<<<<<< HEAD
=======
>>>>>>> 7d8af7ec4cde662b44579ef747db8918bfb7771f:Lab2&3/16521459_Lab2.ipynb
>>>>>>> master
=======
>>>>>>> master:Lab2&3/16521459_Ex2.ipynb
    }
   ],
   "source": [
    "caught_speeding(81,True)"
   ]
  },
  {
   "cell_type": "code",
<<<<<<< HEAD:Lab2&3/16521459_Lab2.ipynb
<<<<<<< HEAD
=======
<<<<<<< HEAD:Lab2&3/.ipynb_checkpoints/16520449_ex2-checkpoint.ipynb
   "execution_count": 18,
   "metadata": {},
   "outputs": [
    {
     "data": {
      "text/plain": [
       "'Big Ticket'"
      ]
     },
     "execution_count": 18,
     "metadata": {},
     "output_type": "execute_result"
=======
>>>>>>> master
=======
>>>>>>> master:Lab2&3/16521459_Ex2.ipynb
   "execution_count": 98,
   "metadata": {},
   "outputs": [
    {
     "name": "stdout",
     "output_type": "stream",
     "text": [
      "Big Ticket\n"
     ]
<<<<<<< HEAD:Lab2&3/16521459_Lab2.ipynb
<<<<<<< HEAD
=======
>>>>>>> 7d8af7ec4cde662b44579ef747db8918bfb7771f:Lab2&3/16521459_Lab2.ipynb
>>>>>>> master
=======
>>>>>>> master:Lab2&3/16521459_Ex2.ipynb
    }
   ],
   "source": [
    "caught_speeding(81,False)"
   ]
  },
  {
   "cell_type": "code",
   "execution_count": null,
   "metadata": {},
   "outputs": [],
   "source": []
  }
 ],
 "metadata": {
  "kernelspec": {
   "display_name": "Python 3",
   "language": "python",
   "name": "python3"
  },
  "language_info": {
   "codemirror_mode": {
    "name": "ipython",
    "version": 3
   },
   "file_extension": ".py",
   "mimetype": "text/x-python",
   "name": "python",
   "nbconvert_exporter": "python",
   "pygments_lexer": "ipython3",
   "version": "3.7.4"
  }
 },
 "nbformat": 4,
 "nbformat_minor": 2
}
