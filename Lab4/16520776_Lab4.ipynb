{
 "cells": [
  {
   "cell_type": "markdown",
   "metadata": {},
   "source": [
    "# Classification"
   ]
  },
  {
   "cell_type": "code",
   "execution_count": 3,
   "metadata": {},
   "outputs": [],
   "source": [
    "from sklearn import datasets\n",
    "import matplotlib.pyplot as plt\n",
    "\n",
    "digits = datasets.load_digits()"
   ]
  },
  {
   "cell_type": "code",
   "execution_count": 4,
   "metadata": {},
   "outputs": [
    {
     "name": "stdout",
     "output_type": "stream",
     "text": [
      "[0 1 2 3 4 5 6 7 8 9]\n"
     ]
    }
   ],
   "source": [
    "from sklearn.model_selection import train_test_split\n",
    "import numpy as np\n",
    "\n",
    "X= digits.data\n",
    "y= digits.target\n",
    "\n",
    "print(digits.target_names)\n",
    "\n",
    "X_train, X_test, y_train, y_test = train_test_split(X, y, test_size=0.2, random_state=42, stratify=y)"
   ]
  },
  {
   "cell_type": "code",
   "execution_count": 5,
   "metadata": {},
   "outputs": [
    {
     "data": {
      "image/png": "[encoded data removed]",
      "text/plain": [
       "<Figure size 432x288 with 1 Axes>"
      ]
     },
     "metadata": {
      "needs_background": "light"
     },
     "output_type": "display_data"
    }
   ],
   "source": [
    "from sklearn.neighbors import KNeighborsClassifier\n",
    "import pandas as pd\n",
    "\n",
    "train_acc=[]\n",
    "test_acc=[]\n",
    "for i in range(1,9,1):\n",
    "    knn_clf = KNeighborsClassifier(n_neighbors=i)\n",
    "    knn_clf.fit(X_train, y_train)\n",
    "    train_acc.append(knn_clf.score(X_train, y_train))\n",
    "    test_acc.append(knn_clf.score(X_test, y_test))\n",
    "\n",
    "train_acc = pd.Series(train_acc, index=range(1,9,1))\n",
    "test_acc = pd.Series(test_acc, index=range(1,9,1))\n",
    "plt.plot(train_acc, \"r-\", label=\"training accuracy\")\n",
    "plt.plot(test_acc, \"b-\", label=\"testing accuracy\")\n",
    "plt.legend()\n",
    "plt.xlabel('Number of Neighbors')\n",
    "plt.ylabel('Accuracy')\n",
    "plt.show()\n",
    "\n",
    "# In conclusion k equals 2 is best\n"
   ]
  },
  {
   "cell_type": "code",
   "execution_count": 6,
   "metadata": {
    "scrolled": true
   },
   "outputs": [
    {
     "name": "stdout",
     "output_type": "stream",
     "text": [
      "Accuracy: \n",
      "               precision    recall  f1-score   support\n",
      "\n",
      "           0       1.00      1.00      1.00        36\n",
      "           1       0.92      0.94      0.93        36\n",
      "           2       1.00      1.00      1.00        35\n",
      "           3       1.00      0.97      0.99        37\n",
      "           4       1.00      1.00      1.00        36\n",
      "           5       1.00      1.00      1.00        37\n",
      "           6       1.00      0.97      0.99        36\n",
      "           7       0.97      1.00      0.99        36\n",
      "           8       0.94      0.89      0.91        35\n",
      "           9       0.95      1.00      0.97        36\n",
      "\n",
      "   micro avg       0.98      0.98      0.98       360\n",
      "   macro avg       0.98      0.98      0.98       360\n",
      "weighted avg       0.98      0.98      0.98       360\n",
      "\n",
      "Accuracy: \n",
      "               precision    recall  f1-score   support\n",
      "\n",
      "           0       1.00      0.58      0.74        36\n",
      "           1       1.00      0.61      0.76        36\n",
      "           2       1.00      0.63      0.77        35\n",
      "           3       1.00      0.86      0.93        37\n",
      "           4       1.00      0.56      0.71        36\n",
      "           5       0.22      1.00      0.37        37\n",
      "           6       1.00      0.69      0.82        36\n",
      "           7       1.00      0.50      0.67        36\n",
      "           8       1.00      0.20      0.33        35\n",
      "           9       1.00      0.78      0.88        36\n",
      "\n",
      "   micro avg       0.64      0.64      0.64       360\n",
      "   macro avg       0.92      0.64      0.70       360\n",
      "weighted avg       0.92      0.64      0.70       360\n",
      "\n",
      "Accuracy: \n",
      "               precision    recall  f1-score   support\n",
      "\n",
      "           0       1.00      0.97      0.99        36\n",
      "           1       0.95      1.00      0.97        36\n",
      "           2       1.00      1.00      1.00        35\n",
      "           3       1.00      1.00      1.00        37\n",
      "           4       0.97      1.00      0.99        36\n",
      "           5       1.00      1.00      1.00        37\n",
      "           6       1.00      0.97      0.99        36\n",
      "           7       0.97      1.00      0.99        36\n",
      "           8       0.97      0.94      0.96        35\n",
      "           9       1.00      0.97      0.99        36\n",
      "\n",
      "   micro avg       0.99      0.99      0.99       360\n",
      "   macro avg       0.99      0.99      0.99       360\n",
      "weighted avg       0.99      0.99      0.99       360\n",
      "\n"
     ]
    }
   ],
   "source": [
    "from sklearn.svm import SVC\n",
    "from sklearn.metrics import classification_report\n",
    "linear_kernel_svm = SVC(kernel='linear', gamma='auto')\n",
    "rbf_kernel_svm = SVC(kernel='rbf', gamma='auto')\n",
    "polynomial_kernel_svm = SVC(kernel='poly', gamma='auto')\n",
    "\n",
    "linear_kernel_svm.fit(X_train, y_train)\n",
    "rbf_kernel_svm.fit(X_train, y_train)\n",
    "polynomial_kernel_svm.fit(X_train, y_train)\n",
    "\n",
    "li_pred = linear_kernel_svm.predict(X_test)\n",
    "rbf_pred = rbf_kernel_svm.predict(X_test)\n",
    "poly_pred = polynomial_kernel_svm.predict(X_test)\n",
    "\n",
    "print(\"Accuracy: \\n %s\" %classification_report(y_test, li_pred))\n",
    "print(\"Accuracy: \\n %s\" %classification_report(y_test, rbf_pred))\n",
    "print(\"Accuracy: \\n %s\" %classification_report(y_test, poly_pred))\n",
    "\n",
    "# I conclude that polynomial kernel is the best in 3 kernel because it has the highest micro avg and macro avg"
   ]
  },
  {
   "cell_type": "code",
   "execution_count": 7,
   "metadata": {},
   "outputs": [
    {
     "name": "stdout",
     "output_type": "stream",
     "text": [
      "Confusion matrix, without normalization\n",
      "[[35  0  0  0  1  0  0  0  0  0]\n",
      " [ 0 23  5  0  0  1  1  0  2  4]\n",
      " [ 0  1 33  0  0  0  0  0  1  0]\n",
      " [ 0  0  1 36  0  0  0  0  0  0]\n",
      " [ 0  0  0  0 36  0  0  0  0  0]\n",
      " [ 0  0  0  0  1 31  0  0  0  5]\n",
      " [ 0  1  0  0  0  0 34  0  1  0]\n",
      " [ 0  0  0  0  0  0  0 36  0  0]\n",
      " [ 0  6  0  0  0  0  0  1 28  0]\n",
      " [ 0  1  0  1  0  0  0  3  3 28]]\n"
     ]
    },
    {
     "data": {
      "text/plain": [
       "<matplotlib.axes._subplots.AxesSubplot at 0x7f346cadd048>"
      ]
     },
     "execution_count": 7,
     "metadata": {},
     "output_type": "execute_result"
    },
    {
     "data": {
      "image/png": "[encoded data removed]",
      "text/plain": [
       "<Figure size 432x288 with 2 Axes>"
      ]
     },
     "metadata": {
      "needs_background": "light"
     },
     "output_type": "display_data"
    }
   ],
   "source": [
    "from sklearn.metrics import confusion_matrix\n",
    "from sklearn.naive_bayes import MultinomialNB\n",
    "from sklearn.utils.multiclass import unique_labels\n",
    "\n",
    "def plot_confusion_matrix(y_true, y_pred, classes,\n",
    "                          normalize=False,\n",
    "                          title=None,\n",
    "                          cmap=plt.cm.Blues):\n",
    "    \"\"\"\n",
    "    This function prints and plots the confusion matrix.\n",
    "    Normalization can be applied by setting `normalize=True`.\n",
    "    \"\"\"\n",
    "    if not title:\n",
    "        if normalize:\n",
    "            title = 'Normalized confusion matrix'\n",
    "        else:\n",
    "            title = 'Confusion matrix, without normalization'\n",
    "\n",
    "    # Compute confusion matrix\n",
    "    cm = confusion_matrix(y_true, y_pred)\n",
    "    # Only use the labels that appear in the data\n",
    "    classes = classes[unique_labels(y_true, y_pred)]\n",
    "    if normalize:\n",
    "        cm = cm.astype('float') / cm.sum(axis=1)[:, np.newaxis]\n",
    "        print(\"Normalized confusion matrix\")\n",
    "    else:\n",
    "        print('Confusion matrix, without normalization')\n",
    "\n",
    "    print(cm)\n",
    "\n",
    "    fig, ax = plt.subplots()\n",
    "    im = ax.imshow(cm, interpolation='nearest', cmap=cmap)\n",
    "    ax.figure.colorbar(im, ax=ax)\n",
    "    # We want to show all ticks...\n",
    "    ax.set(xticks=np.arange(cm.shape[1]),\n",
    "           yticks=np.arange(cm.shape[0]),\n",
    "           # ... and label them with the respective list entries\n",
    "           xticklabels=classes, yticklabels=classes,\n",
    "           title=title,\n",
    "           ylabel='True label',\n",
    "           xlabel='Predicted label')\n",
    "\n",
    "    # Rotate the tick labels and set their alignment.\n",
    "    plt.setp(ax.get_xticklabels(), rotation=45, ha=\"right\",\n",
    "             rotation_mode=\"anchor\")\n",
    "\n",
    "    # Loop over data dimensions and create text annotations.\n",
    "    fmt = '.2f' if normalize else 'd'\n",
    "    thresh = cm.max() / 2.\n",
    "    for i in range(cm.shape[0]):\n",
    "        for j in range(cm.shape[1]):\n",
    "            ax.text(j, i, format(cm[i, j], fmt),\n",
    "                    ha=\"center\", va=\"center\",\n",
    "                    color=\"white\" if cm[i, j] > thresh else \"black\")\n",
    "    fig.tight_layout()\n",
    "    return ax\n",
    "\n",
    "naive_clf = MultinomialNB()\n",
    "naive_clf.fit(X_train,y_train)\n",
    "naive_pred =naive_clf.predict(X_test)\n",
    "naive_matrix = confusion_matrix(y_test, naive_pred)\n",
    "plot_confusion_matrix(y_test, naive_pred,digits.target_names)\n"
   ]
  },
  {
   "cell_type": "code",
   "execution_count": 8,
   "metadata": {},
   "outputs": [
    {
     "data": {
      "image/png": "[encoded data removed]",
      "text/plain": [
       "<Figure size 432x288 with 1 Axes>"
      ]
     },
     "metadata": {
      "needs_background": "light"
     },
     "output_type": "display_data"
    }
   ],
   "source": [
    "svm_score = polynomial_kernel_svm.score(X_test, y_test)\n",
    "knn_score = knn_clf.score(X_test, y_test)\n",
    "naive_score = naive_clf.score(X_test, y_test)\n",
    "\n",
    "fig, ax = plt.subplots()\n",
    "\n",
    "plt.bar(['svm', 'knn', 'naive'], [svm_score, knn_score, naive_score])\n",
    "plt.xlabel('Classifier')\n",
    "plt.ylabel('Accuracy')\n",
    "plt.show()"
   ]
  },
  {
   "cell_type": "markdown",
   "metadata": {},
   "source": [
    "# Regression"
   ]
  },
  {
   "cell_type": "code",
   "execution_count": 89,
   "metadata": {},
   "outputs": [],
   "source": [
    "import seaborn as sb\n",
    "from sklearn.preprocessing import LabelEncoder\n",
    "from sklearn.compose import ColumnTransformer\n",
    "\n",
    "df = pd.read_csv('gapminder.csv')\n",
    "label = LabelEncoder()\n",
    "\n",
    "df['Region'] = label.fit_transform(df['Region'])\n",
    "clean_df = df.copy()"
   ]
  },
  {
   "cell_type": "code",
   "execution_count": 94,
   "metadata": {},
   "outputs": [
    {
     "data": {
      "text/plain": [
       "(139, 10)"
      ]
     },
     "execution_count": 94,
     "metadata": {},
     "output_type": "execute_result"
    }
   ],
   "source": [
    "df.shape"
   ]
  },
  {
   "cell_type": "code",
   "execution_count": 90,
   "metadata": {},
   "outputs": [],
   "source": [
    "corr_matrix = clean_df.corr()"
   ]
  },
  {
   "cell_type": "code",
   "execution_count": 91,
   "metadata": {},
   "outputs": [
    {
     "data": {
      "text/plain": [
       "<matplotlib.axes._subplots.AxesSubplot at 0x7f34534e47f0>"
      ]
     },
     "execution_count": 91,
     "metadata": {},
     "output_type": "execute_result"
    },
    {
     "data": {
      "image/png": "[encoded data removed]",
      "text/plain": [
       "<Figure size 432x288 with 2 Axes>"
      ]
     },
     "metadata": {
      "needs_background": "light"
     },
     "output_type": "display_data"
    }
   ],
   "source": [
    "sb.heatmap(corr_matrix, cmap='PuBuGn')\n"
   ]
  },
  {
   "cell_type": "code",
   "execution_count": 109,
   "metadata": {},
   "outputs": [],
   "source": [
    "from sklearn.linear_model import LinearRegression\n",
    "clean_df_y = clean_df['life']\n",
    "clean_df_x = clean_df['fertility']\n",
    "X_train, X_test, y_train, y_test = train_test_split(clean_df_x, clean_df_y, test_size =0.2, random_state=42)\n",
    "lin_reg = LinearRegression()\n",
    "\n",
    "lin_reg.fit(X_train.values.reshape(-1, 1), y_train)\n",
    "lin_pred = lin_reg.predict(X_test.values.reshape(-1,1))\n",
    "fertility_score = lin_reg.score(X_test.values.reshape(-1,1), y_test)"
   ]
  },
  {
   "cell_type": "code",
   "execution_count": 114,
   "metadata": {},
   "outputs": [
    {
     "data": {
      "text/plain": [
       "0"
      ]
     },
     "execution_count": 114,
     "metadata": {},
     "output_type": "execute_result"
    }
   ],
   "source": []
  },
  {
   "cell_type": "code",
   "execution_count": 110,
   "metadata": {},
   "outputs": [
    {
     "data": {
      "text/plain": [
       "Text(0, 0.5, 'Life Expectancy')"
      ]
     },
     "execution_count": 110,
     "metadata": {},
     "output_type": "execute_result"
    },
    {
     "data": {
      "image/png": "[encoded data removed]",
      "text/plain": [
       "<Figure size 432x288 with 1 Axes>"
      ]
     },
     "metadata": {
      "needs_background": "light"
     },
     "output_type": "display_data"
    }
   ],
   "source": [
    "plt.plot(X_test, lin_pred, 'r-')\n",
    "plt.scatter(clean_df['fertility'], clean_df['life'])\n",
    "plt.xlabel('Fertility')\n",
    "plt.ylabel('Life Expectancy')"
   ]
  },
  {
   "cell_type": "code",
   "execution_count": 111,
   "metadata": {},
   "outputs": [],
   "source": [
    "clean_df_y = clean_df['life']\n",
    "clean_df_x = clean_df.drop(columns =['life'], axis=1)\n",
    "\n",
    "Allx_train, Allx_test, Ally_train, Ally_test = train_test_split(clean_df_x, clean_df_y, test_size =0.2, random_state=42)\n",
    "lin_reg = LinearRegression()\n",
    "\n",
    "lin_reg.fit(Allx_train, Ally_train)\n",
    "lin_pred = lin_reg.predict(Allx_test)\n",
    "\n",
    "all_score = lin_reg.score(Allx_test, Ally_test)"
   ]
  },
  {
   "cell_type": "markdown",
   "metadata": {},
   "source": [
    "## Compare model score"
   ]
  },
  {
   "cell_type": "code",
   "execution_count": 106,
   "metadata": {},
   "outputs": [
    {
     "name": "stdout",
     "output_type": "stream",
     "text": [
      "All: 0.924119 vs Fertility: 0.809571\n"
     ]
    }
   ],
   "source": [
    "print('All: %f vs Fertility: %f' %(all_score, fertility_score))"
   ]
  },
  {
   "cell_type": "markdown",
   "metadata": {},
   "source": [
    "## 5 fold cross_validation"
   ]
  },
  {
   "cell_type": "code",
   "execution_count": 131,
   "metadata": {},
   "outputs": [],
   "source": [
    "from sklearn.model_selection import cross_val_score\n",
    "one_scores = cross_val_score(lin_reg, X_train.values.reshape(-1,1), y_train, scoring='neg_mean_squared_error', cv=5, error_score='raise')\n",
    "all_scores = cross_val_score(lin_reg, Allx_train, Ally_train, scoring='neg_mean_squared_error', cv=5, error_score='raise')\n",
    "\n",
    "one_scores = np.sqrt(-one_scores)\n",
    "all_scores = np.sqrt(-all_scores)"
   ]
  },
  {
   "cell_type": "code",
   "execution_count": 132,
   "metadata": {},
   "outputs": [],
   "source": [
    "def display_scores(scores):\n",
    "    print(\"Scores:\", scores)\n",
    "    print(\"Mean:\", scores.mean())\n",
    "    print(\"Standard deviation:\", scores.std())"
   ]
  },
  {
   "cell_type": "code",
   "execution_count": 133,
   "metadata": {},
   "outputs": [
    {
     "name": "stdout",
     "output_type": "stream",
     "text": [
      "Scores: [4.63482636 6.6095477  7.35866709 5.09241256 6.63933574]\n",
      "Mean: 6.066957890829173\n",
      "Standard deviation: 1.0287149354347138\n"
     ]
    }
   ],
   "source": [
    "display_scores(one_scores)"
   ]
  },
  {
   "cell_type": "code",
   "execution_count": 134,
   "metadata": {},
   "outputs": [
    {
     "name": "stdout",
     "output_type": "stream",
     "text": [
      "Scores: [4.32443861 3.29903086 2.49637583 4.12523498 3.68525709]\n",
      "Mean: 3.5860674755340973\n",
      "Standard deviation: 0.6504690654285343\n"
     ]
    }
   ],
   "source": [
    "display_scores(all_scores)"
   ]
  },
  {
   "cell_type": "markdown",
   "metadata": {},
   "source": [
    "#### All feature perform better than only one feature. But Fertility definitely is one of the most important feature"
   ]
  },
  {
   "cell_type": "code",
   "execution_count": null,
   "metadata": {},
   "outputs": [],
   "source": []
  }
 ],
 "metadata": {
  "kernelspec": {
   "display_name": "Python 3",
   "language": "python",
   "name": "python3"
  },
  "language_info": {
   "codemirror_mode": {
    "name": "ipython",
    "version": 3
   },
   "file_extension": ".py",
   "mimetype": "text/x-python",
   "name": "python",
   "nbconvert_exporter": "python",
   "pygments_lexer": "ipython3",
   "version": "3.7.3"
  }
 },
 "nbformat": 4,
 "nbformat_minor": 2
}
