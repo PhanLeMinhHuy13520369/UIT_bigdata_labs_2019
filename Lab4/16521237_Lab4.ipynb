{
 "cells": [
  {
   "cell_type": "markdown",
   "metadata": {},
   "source": [
    "# I.Classification"
   ]
  },
  {
   "cell_type": "code",
   "execution_count": 7,
   "metadata": {},
   "outputs": [],
   "source": [
    "from sklearn import datasets\n",
    "import pandas as pd\n",
    "from sklearn.metrics import accuracy_score\n",
    "import matplotlib.pyplot as plt\n",
    "digits = datasets.load_digits()"
   ]
  },
  {
   "cell_type": "code",
   "execution_count": 13,
   "metadata": {},
   "outputs": [],
   "source": [
    "from sklearn.model_selection import train_test_split\n",
    "import numpy as np\n",
    "x = digits.data\n",
    "y = digits.target\n",
    "x_train, x_test, y_train, y_test = train_test_split(x, y, test_size = 0.2,random_state=42, stratify=y)"
   ]
  },
  {
   "cell_type": "code",
   "execution_count": 28,
   "metadata": {},
   "outputs": [],
   "source": [
    "from sklearn.neighbors import KNeighborsClassifier\n",
    "neighbors = np.arange(1,9)\n",
    "train_accuracy =np.empty(len(neighbors))\n",
    "test_accuracy = np.empty(len(neighbors))\n",
    "for i,k in enumerate(neighbors):\n",
    "    knn = KNeighborsClassifier(n_neighbors=k)\n",
    "    knn.fit(x_train, y_train) \n",
    "    train_accuracy [i] = knn.score(x_train, y_train) \n",
    "    test_accuracy [i] = knn.score(x_test, y_test)"
   ]
  },
  {
   "cell_type": "code",
   "execution_count": 29,
   "metadata": {},
   "outputs": [
    {
     "data": {
      "text/plain": [
       "array([1, 2, 3, 4, 5, 6, 7, 8])"
      ]
     },
     "execution_count": 29,
     "metadata": {},
     "output_type": "execute_result"
    }
   ],
   "source": [
    "neighbors"
   ]
  },
  {
   "cell_type": "code",
   "execution_count": 40,
   "metadata": {},
   "outputs": [
    {
     "data": {
      "image/png": "[encoded data removed]",
      "text/plain": [
       "<Figure size 432x288 with 1 Axes>"
      ]
     },
     "metadata": {},
     "output_type": "display_data"
    }
   ],
   "source": [
    "plt.title('k-NN Varying number of neighbors')\n",
    "plt.plot(neighbors, test_accuracy, label='Testing Accuracy')\n",
    "plt.plot(neighbors, train_accuracy, label='Training accuracy')\n",
    "plt.legend()\n",
    "plt.xlabel('Number of neighbors')\n",
    "plt.ylabel('Accuracy')\n",
    "plt.show()"
   ]
  },
  {
   "cell_type": "code",
   "execution_count": 44,
   "metadata": {},
   "outputs": [
    {
     "data": {
      "text/plain": [
       "0.9833333333333333"
      ]
     },
     "execution_count": 44,
     "metadata": {},
     "output_type": "execute_result"
    }
   ],
   "source": [
    "from sklearn.metrics import accuracy_score\n",
    "knn_accur = KNeighborsClassifier()\n",
    "knn_accur.fit(x_train, y_train)    \n",
    "y_pred_knn = knn_accur.predict(x_test)\n",
    "accur_knn = accuracy_score(y_test, y_pred_knn)\n",
    "accur_knn"
   ]
  },
  {
   "cell_type": "code",
   "execution_count": 47,
   "metadata": {},
   "outputs": [
    {
     "name": "stdout",
     "output_type": "stream",
     "text": [
      "kernel:  linear\n",
      "             precision    recall  f1-score   support\n",
      "\n",
      "          0       1.00      1.00      1.00        36\n",
      "          1       0.92      0.94      0.93        36\n",
      "          2       1.00      1.00      1.00        35\n",
      "          3       1.00      0.97      0.99        37\n",
      "          4       1.00      1.00      1.00        36\n",
      "          5       1.00      1.00      1.00        37\n",
      "          6       1.00      0.97      0.99        36\n",
      "          7       0.97      1.00      0.99        36\n",
      "          8       0.94      0.89      0.91        35\n",
      "          9       0.95      1.00      0.97        36\n",
      "\n",
      "avg / total       0.98      0.98      0.98       360\n",
      "\n",
      "kernel:  rbf\n",
      "             precision    recall  f1-score   support\n",
      "\n",
      "          0       1.00      0.58      0.74        36\n",
      "          1       1.00      0.61      0.76        36\n",
      "          2       1.00      0.63      0.77        35\n",
      "          3       1.00      0.86      0.93        37\n",
      "          4       1.00      0.56      0.71        36\n",
      "          5       0.22      1.00      0.37        37\n",
      "          6       1.00      0.69      0.82        36\n",
      "          7       1.00      0.50      0.67        36\n",
      "          8       1.00      0.20      0.33        35\n",
      "          9       1.00      0.78      0.88        36\n",
      "\n",
      "avg / total       0.92      0.64      0.70       360\n",
      "\n",
      "kernel:  poly\n",
      "             precision    recall  f1-score   support\n",
      "\n",
      "          0       1.00      0.97      0.99        36\n",
      "          1       0.95      1.00      0.97        36\n",
      "          2       1.00      1.00      1.00        35\n",
      "          3       1.00      1.00      1.00        37\n",
      "          4       0.97      1.00      0.99        36\n",
      "          5       1.00      1.00      1.00        37\n",
      "          6       1.00      0.97      0.99        36\n",
      "          7       0.97      1.00      0.99        36\n",
      "          8       0.97      0.94      0.96        35\n",
      "          9       1.00      0.97      0.99        36\n",
      "\n",
      "avg / total       0.99      0.99      0.99       360\n",
      "\n"
     ]
    }
   ],
   "source": [
    "from sklearn.svm import SVC\n",
    "from sklearn.metrics import classification_report\n",
    "kernelList=['linear', 'rbf', 'poly']\n",
    "for kernel in kernelList:\n",
    "    svclassifier = SVC(kernel=kernel)\n",
    "    svclassifier.fit(x_train, y_train)\n",
    "    print('kernel: ', kernel)\n",
    "    y_pred = svclassifier.predict(x_test)\n",
    "    print(classification_report(y_test,y_pred))"
   ]
  },
  {
   "cell_type": "code",
   "execution_count": 48,
   "metadata": {},
   "outputs": [
    {
     "data": {
      "text/plain": [
       "0.9861111111111112"
      ]
     },
     "execution_count": 48,
     "metadata": {},
     "output_type": "execute_result"
    }
   ],
   "source": [
    "\n",
    "accur_SVM = accuracy_score(y_test, y_pred)\n",
    "accur_SVM"
   ]
  },
  {
   "cell_type": "code",
   "execution_count": 52,
   "metadata": {},
   "outputs": [],
   "source": [
    "from sklearn.metrics import confusion_matrix, accuracy_score\n",
    "from sklearn.naive_bayes import GaussianNB\n",
    "\n",
    "gbn = GaussianNB()\n",
    "gbn.fit(x_train, y_train)\n",
    "y_pred_Bayes = gbn.predict(x_test)"
   ]
  },
  {
   "cell_type": "code",
   "execution_count": 56,
   "metadata": {},
   "outputs": [
    {
     "data": {
      "text/plain": [
       "0.8111111111111111"
      ]
     },
     "execution_count": 56,
     "metadata": {},
     "output_type": "execute_result"
    }
   ],
   "source": [
    "accur_Bayes = accuracy_score(y_test, y_pred_Bayes)\n",
    "accur_Bayes"
   ]
  },
  {
   "cell_type": "code",
   "execution_count": 57,
   "metadata": {},
   "outputs": [
    {
     "data": {
      "text/plain": [
       "array([[33,  0,  0,  0,  1,  1,  0,  0,  1,  0],\n",
       "       [ 0, 29,  1,  0,  0,  0,  1,  0,  3,  2],\n",
       "       [ 0,  3, 19,  0,  0,  0,  0,  0, 13,  0],\n",
       "       [ 0,  0,  1, 26,  0,  0,  0,  1,  8,  1],\n",
       "       [ 0,  2,  0,  0, 26,  0,  1,  6,  1,  0],\n",
       "       [ 0,  0,  0,  0,  0, 35,  0,  1,  0,  1],\n",
       "       [ 0,  1,  0,  0,  0,  0, 35,  0,  0,  0],\n",
       "       [ 0,  0,  0,  0,  0,  1,  0, 35,  0,  0],\n",
       "       [ 0,  4,  1,  0,  0,  0,  0,  1, 29,  0],\n",
       "       [ 0,  3,  1,  0,  0,  0,  0,  4,  3, 25]], dtype=int64)"
      ]
     },
     "execution_count": 57,
     "metadata": {},
     "output_type": "execute_result"
    }
   ],
   "source": [
    "array = confusion_matrix(y_test, y_pred_Bayes)\n",
    "array\n"
   ]
  },
  {
   "cell_type": "code",
   "execution_count": 59,
   "metadata": {},
   "outputs": [
    {
     "data": {
      "image/png": "[encoded data removed]",
      "text/plain": [
       "<Figure size 432x288 with 2 Axes>"
      ]
     },
     "metadata": {},
     "output_type": "display_data"
    }
   ],
   "source": [
    "\n",
    "import matplotlib.pyplot as plt\n",
    "import seaborn as sn\n",
    "sn.heatmap(array, annot=True, fmt=\".0f\")\n",
    "plt.show()"
   ]
  },
  {
   "cell_type": "code",
   "execution_count": 61,
   "metadata": {},
   "outputs": [
    {
     "data": {
      "text/plain": [
       "([<matplotlib.axis.XTick at 0x29b03429438>,\n",
       "  <matplotlib.axis.XTick at 0x29b033cbcf8>,\n",
       "  <matplotlib.axis.XTick at 0x29b033cbb38>],\n",
       " <a list of 3 Text xticklabel objects>)"
      ]
     },
     "execution_count": 61,
     "metadata": {},
     "output_type": "execute_result"
    },
    {
     "data": {
      "image/png": "[encoded data removed]",
      "text/plain": [
       "<Figure size 432x288 with 1 Axes>"
      ]
     },
     "metadata": {},
     "output_type": "display_data"
    }
   ],
   "source": [
    "classifier = ['Bayes', 'KNN', 'SVM']\n",
    "Accuracy = [accur_Bayes, accur_knn, accur_SVM]\n",
    "plt.xlabel('Classifier')\n",
    "plt.ylabel('Accuracy')\n",
    "x = np.arange(3)\n",
    "plt.bar(x, height= Accuracy)\n",
    "plt.xticks(x, classifier)"
   ]
  },
  {
   "cell_type": "markdown",
   "metadata": {},
   "source": [
    "# II.Regression"
   ]
  },
  {
   "cell_type": "code",
   "execution_count": 62,
   "metadata": {},
   "outputs": [
    {
     "data": {
      "text/html": [
       "<div>\n",
       "<style scoped>\n",
       "    .dataframe tbody tr th:only-of-type {\n",
       "        vertical-align: middle;\n",
       "    }\n",
       "\n",
       "    .dataframe tbody tr th {\n",
       "        vertical-align: top;\n",
       "    }\n",
       "\n",
       "    .dataframe thead th {\n",
       "        text-align: right;\n",
       "    }\n",
       "</style>\n",
       "<table border=\"1\" class=\"dataframe\">\n",
       "  <thead>\n",
       "    <tr style=\"text-align: right;\">\n",
       "      <th></th>\n",
       "      <th>population</th>\n",
       "      <th>fertility</th>\n",
       "      <th>HIV</th>\n",
       "      <th>CO2</th>\n",
       "      <th>BMI_male</th>\n",
       "      <th>GDP</th>\n",
       "      <th>BMI_female</th>\n",
       "      <th>life</th>\n",
       "      <th>child_mortality</th>\n",
       "      <th>Region</th>\n",
       "    </tr>\n",
       "  </thead>\n",
       "  <tbody>\n",
       "    <tr>\n",
       "      <th>0</th>\n",
       "      <td>34811059</td>\n",
       "      <td>2.73</td>\n",
       "      <td>0.1</td>\n",
       "      <td>3.328945</td>\n",
       "      <td>24.59620</td>\n",
       "      <td>12314</td>\n",
       "      <td>129.9049</td>\n",
       "      <td>75.3</td>\n",
       "      <td>29.5</td>\n",
       "      <td>Middle East &amp; North Africa</td>\n",
       "    </tr>\n",
       "    <tr>\n",
       "      <th>1</th>\n",
       "      <td>19842251</td>\n",
       "      <td>6.43</td>\n",
       "      <td>2.0</td>\n",
       "      <td>1.474353</td>\n",
       "      <td>22.25083</td>\n",
       "      <td>7103</td>\n",
       "      <td>130.1247</td>\n",
       "      <td>58.3</td>\n",
       "      <td>192.0</td>\n",
       "      <td>Sub-Saharan Africa</td>\n",
       "    </tr>\n",
       "    <tr>\n",
       "      <th>2</th>\n",
       "      <td>40381860</td>\n",
       "      <td>2.24</td>\n",
       "      <td>0.5</td>\n",
       "      <td>4.785170</td>\n",
       "      <td>27.50170</td>\n",
       "      <td>14646</td>\n",
       "      <td>118.8915</td>\n",
       "      <td>75.5</td>\n",
       "      <td>15.4</td>\n",
       "      <td>America</td>\n",
       "    </tr>\n",
       "    <tr>\n",
       "      <th>3</th>\n",
       "      <td>2975029</td>\n",
       "      <td>1.40</td>\n",
       "      <td>0.1</td>\n",
       "      <td>1.804106</td>\n",
       "      <td>25.35542</td>\n",
       "      <td>7383</td>\n",
       "      <td>132.8108</td>\n",
       "      <td>72.5</td>\n",
       "      <td>20.0</td>\n",
       "      <td>Europe &amp; Central Asia</td>\n",
       "    </tr>\n",
       "    <tr>\n",
       "      <th>4</th>\n",
       "      <td>21370348</td>\n",
       "      <td>1.96</td>\n",
       "      <td>0.1</td>\n",
       "      <td>18.016313</td>\n",
       "      <td>27.56373</td>\n",
       "      <td>41312</td>\n",
       "      <td>117.3755</td>\n",
       "      <td>81.5</td>\n",
       "      <td>5.2</td>\n",
       "      <td>East Asia &amp; Pacific</td>\n",
       "    </tr>\n",
       "  </tbody>\n",
       "</table>\n",
       "</div>"
      ],
      "text/plain": [
       "   population  fertility  HIV        CO2  BMI_male    GDP  BMI_female  life  \\\n",
       "0    34811059       2.73  0.1   3.328945  24.59620  12314    129.9049  75.3   \n",
       "1    19842251       6.43  2.0   1.474353  22.25083   7103    130.1247  58.3   \n",
       "2    40381860       2.24  0.5   4.785170  27.50170  14646    118.8915  75.5   \n",
       "3     2975029       1.40  0.1   1.804106  25.35542   7383    132.8108  72.5   \n",
       "4    21370348       1.96  0.1  18.016313  27.56373  41312    117.3755  81.5   \n",
       "\n",
       "   child_mortality                      Region  \n",
       "0             29.5  Middle East & North Africa  \n",
       "1            192.0          Sub-Saharan Africa  \n",
       "2             15.4                     America  \n",
       "3             20.0       Europe & Central Asia  \n",
       "4              5.2         East Asia & Pacific  "
      ]
     },
     "execution_count": 62,
     "metadata": {},
     "output_type": "execute_result"
    }
   ],
   "source": [
    "import pandas as pd\n",
    "import seaborn as sn\n",
    "df = pd.read_csv('gapminder.csv')\n",
    "df.head()"
   ]
  },
  {
   "cell_type": "code",
   "execution_count": 64,
   "metadata": {},
   "outputs": [
    {
     "data": {
      "text/plain": [
       "<matplotlib.axes._subplots.AxesSubplot at 0x29b04bb2320>"
      ]
     },
     "execution_count": 64,
     "metadata": {},
     "output_type": "execute_result"
    },
    {
     "data": {
      "image/png": "[encoded data removed]",
      "text/plain": [
       "<Figure size 432x288 with 2 Axes>"
      ]
     },
     "metadata": {},
     "output_type": "display_data"
    }
   ],
   "source": [
    "sn.heatmap(df.corr(), cmap='BrBG')"
   ]
  },
  {
   "cell_type": "code",
   "execution_count": 67,
   "metadata": {},
   "outputs": [
    {
     "data": {
      "image/png": "[encoded data removed]",
      "text/plain": [
       "<Figure size 432x288 with 1 Axes>"
      ]
     },
     "metadata": {},
     "output_type": "display_data"
    }
   ],
   "source": [
    "from scipy import stats\n",
    "import matplotlib.pyplot as plt\n",
    "from sklearn.linear_model import LinearRegression\n",
    "\n",
    "slr = LinearRegression()\n",
    "X = df['fertility'].values.reshape(-1, 1) \n",
    "X = X.astype('float')\n",
    "y = df['life'].values.reshape(-1, 1)\n",
    "y = y.astype('float')\n",
    "slr.fit(X, y)\n",
    "y_pred = slr.predict(X)\n",
    "\n",
    "plt.scatter (X, y, c = 'blue')\n",
    "plt.plot (X, y_pred, color = 'black')\n",
    "plt.xlabel('fertility')\n",
    "plt.ylabel('life_expectancy')\n",
    "plt.show()"
   ]
  },
  {
   "cell_type": "code",
   "execution_count": 70,
   "metadata": {},
   "outputs": [
    {
     "data": {
      "text/plain": [
       "['population',\n",
       " 'fertility',\n",
       " 'HIV',\n",
       " 'CO2',\n",
       " 'BMI_male',\n",
       " 'GDP',\n",
       " 'BMI_female',\n",
       " 'child_mortality']"
      ]
     },
     "execution_count": 70,
     "metadata": {},
     "output_type": "execute_result"
    }
   ],
   "source": [
    "features = list(df.columns)\n",
    "features = features[:-1]\n",
    "features.pop(7)\n",
    "features"
   ]
  },
  {
   "cell_type": "code",
   "execution_count": 72,
   "metadata": {},
   "outputs": [
    {
     "data": {
      "text/plain": [
       "<matplotlib.axes._subplots.AxesSubplot at 0x29b04b56048>"
      ]
     },
     "execution_count": 72,
     "metadata": {},
     "output_type": "execute_result"
    },
    {
     "data": {
      "image/png": "[encoded data removed]",
      "text/plain": [
       "<Figure size 432x288 with 1 Axes>"
      ]
     },
     "metadata": {},
     "output_type": "display_data"
    }
   ],
   "source": [
    "X_all = df[features]\n",
    "slr.fit(X_all, y)\n",
    "y_pred_all = slr.predict(X_all)\n",
    "y_all = df['life']\n",
    "\n",
    "sn.regplot(y_pred_all, y_all)\n",
    "           "
   ]
  },
  {
   "cell_type": "code",
   "execution_count": 74,
   "metadata": {},
   "outputs": [
    {
     "name": "stdout",
     "output_type": "stream",
     "text": [
      "Fertility:  [0.75397745 0.55557583 0.57886144]\n"
     ]
    }
   ],
   "source": [
    "from sklearn.model_selection import cross_val_score\n",
    "score_fertility = cross_val_score(slr, X, y)\n",
    "print(\"Fertility: \", score_fertility)"
   ]
  },
  {
   "cell_type": "code",
   "execution_count": 76,
   "metadata": {},
   "outputs": [
    {
     "name": "stdout",
     "output_type": "stream",
     "text": [
      "All features:  [0.83699524 0.87875694 0.89986165]\n"
     ]
    }
   ],
   "source": [
    "score_fertility = cross_val_score(slr, X_all, y_all)\n",
    "print(\"All features: \", score_fertility)"
   ]
  },
  {
   "cell_type": "code",
   "execution_count": null,
   "metadata": {},
   "outputs": [],
   "source": []
  }
 ],
 "metadata": {
  "kernelspec": {
   "display_name": "Python 3",
   "language": "python",
   "name": "python3"
  },
  "language_info": {
   "codemirror_mode": {
    "name": "ipython",
    "version": 3
   },
   "file_extension": ".py",
   "mimetype": "text/x-python",
   "name": "python",
   "nbconvert_exporter": "python",
   "pygments_lexer": "ipython3",
   "version": "3.6.5"
  }
 },
 "nbformat": 4,
 "nbformat_minor": 2
}
